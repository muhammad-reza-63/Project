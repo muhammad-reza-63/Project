# Let's read the uploaded CSV file to understand its structure and describe its contents.

import pandas as pd



# Load the data

file_path = '/mnt/data/train.csv'

data = pd.read_csv(file_path)



# Display the first few rows of the dataset to understand its structure

data.head(), data.describe(include='all')

