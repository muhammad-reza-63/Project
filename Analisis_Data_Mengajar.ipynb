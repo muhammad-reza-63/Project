{
 "cells": [
  {
   "cell_type": "markdown",
   "id": "0991333e",
   "metadata": {},
   "source": [
    "<h1> Analysis and Building Model about My Daily Tutoring </h1>"
   ]
  },
  {
   "cell_type": "code",
   "execution_count": 21,
   "id": "ef94f43d",
   "metadata": {},
   "outputs": [
    {
     "data": {
      "text/html": [
       "<div>\n",
       "<style scoped>\n",
       "    .dataframe tbody tr th:only-of-type {\n",
       "        vertical-align: middle;\n",
       "    }\n",
       "\n",
       "    .dataframe tbody tr th {\n",
       "        vertical-align: top;\n",
       "    }\n",
       "\n",
       "    .dataframe thead th {\n",
       "        text-align: right;\n",
       "    }\n",
       "</style>\n",
       "<table border=\"1\" class=\"dataframe\">\n",
       "  <thead>\n",
       "    <tr style=\"text-align: right;\">\n",
       "      <th></th>\n",
       "      <th>Tanggal</th>\n",
       "      <th>Lembaga</th>\n",
       "      <th>Nama Siswa</th>\n",
       "      <th>Kelas</th>\n",
       "      <th>Waktu</th>\n",
       "      <th>Fee (Rp)</th>\n",
       "      <th>Fee</th>\n",
       "    </tr>\n",
       "  </thead>\n",
       "  <tbody>\n",
       "    <tr>\n",
       "      <th>0</th>\n",
       "      <td>2021-09-01</td>\n",
       "      <td>MTSN 7</td>\n",
       "      <td>-</td>\n",
       "      <td>9</td>\n",
       "      <td>90 Menit</td>\n",
       "      <td>Rp. 130.000,-</td>\n",
       "      <td>130000</td>\n",
       "    </tr>\n",
       "    <tr>\n",
       "      <th>1</th>\n",
       "      <td>2021-09-07</td>\n",
       "      <td>MAESTRO</td>\n",
       "      <td>-</td>\n",
       "      <td>Diskusi</td>\n",
       "      <td>180 Menit</td>\n",
       "      <td>Rp. 80.000,-</td>\n",
       "      <td>80000</td>\n",
       "    </tr>\n",
       "    <tr>\n",
       "      <th>2</th>\n",
       "      <td>2021-09-08</td>\n",
       "      <td>MTSN 7</td>\n",
       "      <td>-</td>\n",
       "      <td>9</td>\n",
       "      <td>90 Menit</td>\n",
       "      <td>Rp. 130.000,-</td>\n",
       "      <td>130000</td>\n",
       "    </tr>\n",
       "    <tr>\n",
       "      <th>3</th>\n",
       "      <td>2021-09-10</td>\n",
       "      <td>MAESTRO</td>\n",
       "      <td>-</td>\n",
       "      <td>Diskusi</td>\n",
       "      <td>180 Menit</td>\n",
       "      <td>Rp. 80.000,-</td>\n",
       "      <td>80000</td>\n",
       "    </tr>\n",
       "    <tr>\n",
       "      <th>4</th>\n",
       "      <td>2021-09-13</td>\n",
       "      <td>MAESTRO</td>\n",
       "      <td>-</td>\n",
       "      <td>10</td>\n",
       "      <td>180 Menit</td>\n",
       "      <td>Rp. 80.000,-</td>\n",
       "      <td>80000</td>\n",
       "    </tr>\n",
       "  </tbody>\n",
       "</table>\n",
       "</div>"
      ],
      "text/plain": [
       "     Tanggal  Lembaga Nama Siswa    Kelas      Waktu       Fee (Rp)     Fee\n",
       "0 2021-09-01   MTSN 7          -        9   90 Menit  Rp. 130.000,-  130000\n",
       "1 2021-09-07  MAESTRO          -  Diskusi  180 Menit   Rp. 80.000,-   80000\n",
       "2 2021-09-08   MTSN 7          -        9   90 Menit  Rp. 130.000,-  130000\n",
       "3 2021-09-10  MAESTRO          -  Diskusi  180 Menit   Rp. 80.000,-   80000\n",
       "4 2021-09-13  MAESTRO          -       10  180 Menit   Rp. 80.000,-   80000"
      ]
     },
     "execution_count": 21,
     "metadata": {},
     "output_type": "execute_result"
    }
   ],
   "source": [
    "import pandas as pd\n",
    "\n",
    "df = pd.read_excel('Teaching_1.xlsx')\n",
    "\n",
    "df.head()"
   ]
  },
  {
   "cell_type": "code",
   "execution_count": 2,
   "id": "4a3aa609",
   "metadata": {},
   "outputs": [
    {
     "data": {
      "text/html": [
       "<div>\n",
       "<style scoped>\n",
       "    .dataframe tbody tr th:only-of-type {\n",
       "        vertical-align: middle;\n",
       "    }\n",
       "\n",
       "    .dataframe tbody tr th {\n",
       "        vertical-align: top;\n",
       "    }\n",
       "\n",
       "    .dataframe thead th {\n",
       "        text-align: right;\n",
       "    }\n",
       "</style>\n",
       "<table border=\"1\" class=\"dataframe\">\n",
       "  <thead>\n",
       "    <tr style=\"text-align: right;\">\n",
       "      <th></th>\n",
       "      <th>Fee</th>\n",
       "    </tr>\n",
       "  </thead>\n",
       "  <tbody>\n",
       "    <tr>\n",
       "      <th>count</th>\n",
       "      <td>305.000000</td>\n",
       "    </tr>\n",
       "    <tr>\n",
       "      <th>mean</th>\n",
       "      <td>139702.295082</td>\n",
       "    </tr>\n",
       "    <tr>\n",
       "      <th>std</th>\n",
       "      <td>47035.174002</td>\n",
       "    </tr>\n",
       "    <tr>\n",
       "      <th>min</th>\n",
       "      <td>31000.000000</td>\n",
       "    </tr>\n",
       "    <tr>\n",
       "      <th>25%</th>\n",
       "      <td>96000.000000</td>\n",
       "    </tr>\n",
       "    <tr>\n",
       "      <th>50%</th>\n",
       "      <td>130000.000000</td>\n",
       "    </tr>\n",
       "    <tr>\n",
       "      <th>75%</th>\n",
       "      <td>175000.000000</td>\n",
       "    </tr>\n",
       "    <tr>\n",
       "      <th>max</th>\n",
       "      <td>292500.000000</td>\n",
       "    </tr>\n",
       "  </tbody>\n",
       "</table>\n",
       "</div>"
      ],
      "text/plain": [
       "                 Fee\n",
       "count     305.000000\n",
       "mean   139702.295082\n",
       "std     47035.174002\n",
       "min     31000.000000\n",
       "25%     96000.000000\n",
       "50%    130000.000000\n",
       "75%    175000.000000\n",
       "max    292500.000000"
      ]
     },
     "execution_count": 2,
     "metadata": {},
     "output_type": "execute_result"
    }
   ],
   "source": [
    "df.describe()"
   ]
  },
  {
   "cell_type": "code",
   "execution_count": 7,
   "id": "18fc700e",
   "metadata": {},
   "outputs": [
    {
     "data": {
      "text/plain": [
       "Tanggal       0\n",
       "Lembaga       3\n",
       "Nama Siswa    0\n",
       "Kelas         0\n",
       "Waktu         0\n",
       "Fee (Rp)      0\n",
       "Fee           0\n",
       "dtype: int64"
      ]
     },
     "execution_count": 7,
     "metadata": {},
     "output_type": "execute_result"
    }
   ],
   "source": [
    "df.isnull().sum()"
   ]
  },
  {
   "cell_type": "code",
   "execution_count": 8,
   "id": "cd8a6d3c",
   "metadata": {},
   "outputs": [
    {
     "data": {
      "text/html": [
       "<div>\n",
       "<style scoped>\n",
       "    .dataframe tbody tr th:only-of-type {\n",
       "        vertical-align: middle;\n",
       "    }\n",
       "\n",
       "    .dataframe tbody tr th {\n",
       "        vertical-align: top;\n",
       "    }\n",
       "\n",
       "    .dataframe thead th {\n",
       "        text-align: right;\n",
       "    }\n",
       "</style>\n",
       "<table border=\"1\" class=\"dataframe\">\n",
       "  <thead>\n",
       "    <tr style=\"text-align: right;\">\n",
       "      <th></th>\n",
       "      <th>Tanggal</th>\n",
       "      <th>Lembaga</th>\n",
       "      <th>Nama Siswa</th>\n",
       "      <th>Kelas</th>\n",
       "      <th>Waktu</th>\n",
       "      <th>Fee (Rp)</th>\n",
       "      <th>Fee</th>\n",
       "    </tr>\n",
       "  </thead>\n",
       "  <tbody>\n",
       "    <tr>\n",
       "      <th>67</th>\n",
       "      <td>2021-12-09</td>\n",
       "      <td>NaN</td>\n",
       "      <td>Zaidan</td>\n",
       "      <td>9</td>\n",
       "      <td>90 Menit</td>\n",
       "      <td>Rp. 150.000,-</td>\n",
       "      <td>150000</td>\n",
       "    </tr>\n",
       "    <tr>\n",
       "      <th>245</th>\n",
       "      <td>2022-09-26</td>\n",
       "      <td>NaN</td>\n",
       "      <td>Luiz</td>\n",
       "      <td>9</td>\n",
       "      <td>90 menit</td>\n",
       "      <td>Rp. 120.000,-</td>\n",
       "      <td>120000</td>\n",
       "    </tr>\n",
       "    <tr>\n",
       "      <th>246</th>\n",
       "      <td>2022-09-27</td>\n",
       "      <td>NaN</td>\n",
       "      <td>Luiz</td>\n",
       "      <td>9</td>\n",
       "      <td>90 menit</td>\n",
       "      <td>Rp. 120.000,-</td>\n",
       "      <td>120000</td>\n",
       "    </tr>\n",
       "  </tbody>\n",
       "</table>\n",
       "</div>"
      ],
      "text/plain": [
       "       Tanggal Lembaga Nama Siswa Kelas     Waktu       Fee (Rp)     Fee\n",
       "67  2021-12-09     NaN     Zaidan     9  90 Menit  Rp. 150.000,-  150000\n",
       "245 2022-09-26     NaN       Luiz     9  90 menit  Rp. 120.000,-  120000\n",
       "246 2022-09-27     NaN       Luiz     9  90 menit  Rp. 120.000,-  120000"
      ]
     },
     "execution_count": 8,
     "metadata": {},
     "output_type": "execute_result"
    }
   ],
   "source": [
    "df[df['Lembaga'].isnull()]"
   ]
  },
  {
   "cell_type": "code",
   "execution_count": 9,
   "id": "a7e36789",
   "metadata": {},
   "outputs": [],
   "source": [
    "df.fillna('Private', inplace=True)"
   ]
  },
  {
   "cell_type": "code",
   "execution_count": 11,
   "id": "3d73d31c",
   "metadata": {},
   "outputs": [
    {
     "data": {
      "text/plain": [
       "Tanggal       232\n",
       "Lembaga        24\n",
       "Nama Siswa     27\n",
       "Kelas          16\n",
       "Waktu          11\n",
       "Fee (Rp)       27\n",
       "Fee            28\n",
       "dtype: int64"
      ]
     },
     "execution_count": 11,
     "metadata": {},
     "output_type": "execute_result"
    }
   ],
   "source": [
    "df.nunique()"
   ]
  },
  {
   "cell_type": "markdown",
   "id": "87c5bae3",
   "metadata": {},
   "source": [
    "### Name of each students"
   ]
  },
  {
   "cell_type": "code",
   "execution_count": 12,
   "id": "af463b7a",
   "metadata": {},
   "outputs": [
    {
     "data": {
      "text/plain": [
       "array(['-', 'Falah', 'Yumna', 'Hary', 'Arrafi', 'Rafi', 'Raffie',\n",
       "       'Bintang', 'Melvin', 'Hazel', 'Zaidan', 'Salma', 'Reynard',\n",
       "       'Adel ', 'Reva', 'Sahan', 'Agung', 'Edward', 'Ara', 'Luiz',\n",
       "       'Dafin', 'Nisa', 'Daru ', 'Nisa ', 'Jafar', 'Misel & Bram',\n",
       "       'Ananto'], dtype=object)"
      ]
     },
     "execution_count": 12,
     "metadata": {},
     "output_type": "execute_result"
    }
   ],
   "source": [
    "df['Nama Siswa'].unique()"
   ]
  },
  {
   "cell_type": "markdown",
   "id": "7da560f8",
   "metadata": {},
   "source": [
    "### Which Institution is more likely to hire me than the others"
   ]
  },
  {
   "cell_type": "code",
   "execution_count": 19,
   "id": "42576441",
   "metadata": {},
   "outputs": [
    {
     "data": {
      "text/plain": [
       "array(['MTSN 7', 'MAESTRO', 'LATIS', 'MTSN 6', 'INSAN CERDAS',\n",
       "       ' INSAN PRESTASI', 'RUANGGURU', 'Private', 'MTsN 7', 'Maestro ',\n",
       "       'RUANGGURU ', 'BigBang', 'IP', 'MtsN 34', 'MtsN 4 ', 'Pelita',\n",
       "       'MtsN 33', 'MtsN 17', 'MtsN 7', 'Latis', 'AksesGuru',\n",
       "       'Insan Cerdas', 'Maestro', '-'], dtype=object)"
      ]
     },
     "execution_count": 19,
     "metadata": {},
     "output_type": "execute_result"
    }
   ],
   "source": [
    "df['Lembaga'].unique()"
   ]
  },
  {
   "cell_type": "code",
   "execution_count": null,
   "id": "f836d99f",
   "metadata": {},
   "outputs": [],
   "source": []
  },
  {
   "cell_type": "markdown",
   "id": "ddcdb394",
   "metadata": {},
   "source": [
    "### Base on these data, i can build a model to prediction:\n",
    "\n",
    "### 1.) which institution is more likely hire me as a teacher\n",
    "### 2.) fee based on instituion, duration and grade\n",
    "\n",
    "\n"
   ]
  },
  {
   "cell_type": "code",
   "execution_count": null,
   "id": "2b8783e2",
   "metadata": {},
   "outputs": [],
   "source": []
  }
 ],
 "metadata": {
  "kernelspec": {
   "display_name": "Python 3 (ipykernel)",
   "language": "python",
   "name": "python3"
  },
  "language_info": {
   "codemirror_mode": {
    "name": "ipython",
    "version": 3
   },
   "file_extension": ".py",
   "mimetype": "text/x-python",
   "name": "python",
   "nbconvert_exporter": "python",
   "pygments_lexer": "ipython3",
   "version": "3.9.13"
  }
 },
 "nbformat": 4,
 "nbformat_minor": 5
}
